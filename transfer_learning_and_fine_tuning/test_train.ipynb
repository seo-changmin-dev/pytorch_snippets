{
 "cells": [
  {
   "cell_type": "code",
   "execution_count": 1,
   "metadata": {},
   "outputs": [],
   "source": [
    "import os\n",
    "\n",
    "import torch\n",
    "import torch.nn as nn\n",
    "\n",
    "import numpy as np\n",
    "\n",
    "\n"
   ]
  },
  {
   "cell_type": "code",
   "execution_count": 2,
   "metadata": {},
   "outputs": [],
   "source": [
    "class SimpleModel(nn.Module):\n",
    "    def __init__(self):\n",
    "        super(SimpleModel, self).__init__()\n",
    "\n",
    "        self.my_squeeze = nn.Linear(in_features=3*256*256, out_features=1)\n",
    "\n",
    "    def forward(self, x:torch.tensor):\n",
    "        x = torch.flatten(x, start_dim=1)\n",
    "        x = self.my_squeeze(x)\n",
    "        \n",
    "        return x"
   ]
  },
  {
   "cell_type": "markdown",
   "metadata": {},
   "source": [
    "입출력 크기만 맞춘 가상의 모델 가정하고, 스켈레톤 코드 작성"
   ]
  },
  {
   "cell_type": "code",
   "execution_count": 3,
   "metadata": {},
   "outputs": [],
   "source": [
    "import torch\n",
    "import torch.nn as nn\n",
    "\n",
    "from torchvision import transforms\n",
    "\n",
    "from Dataset import BuildHymenopteraDataLoader"
   ]
  },
  {
   "cell_type": "code",
   "execution_count": 4,
   "metadata": {},
   "outputs": [],
   "source": [
    "DATA_DIR = './data'\n",
    "\n",
    "NUM_EPOCHS = 2\n",
    "BATCH_SIZE = 2\n",
    "\n",
    "VGG16_SIZE = (256, 256)\n",
    "VGG16_MEAN = (0.485, 0.456, 0.406)\n",
    "VGG16_STD = (0.229, 0.224, 0.225)"
   ]
  },
  {
   "cell_type": "code",
   "execution_count": 5,
   "metadata": {},
   "outputs": [],
   "source": [
    "transform_dict = {\n",
    "    'train': transforms.Compose([transforms.Resize(VGG16_SIZE),\n",
    "                                 transforms.ToTensor(),\n",
    "                                 transforms.Normalize(VGG16_MEAN, VGG16_STD)\n",
    "    ]),\n",
    "    'val': transforms.Compose([transforms.Resize(VGG16_SIZE),\n",
    "                                 transforms.ToTensor(),\n",
    "                                 transforms.Normalize(VGG16_MEAN, VGG16_STD)\n",
    "    ]),\n",
    "}\n",
    "\n",
    "dataloader_builder = BuildHymenopteraDataLoader(data_dir=DATA_DIR, transform_dict=transform_dict, batch_size=BATCH_SIZE)\n",
    "dataloader_dict = dataloader_builder.get_dataloader()"
   ]
  },
  {
   "cell_type": "code",
   "execution_count": 6,
   "metadata": {},
   "outputs": [],
   "source": [
    "test_input = next(iter(dataloader_dict['train']))[0]"
   ]
  },
  {
   "cell_type": "code",
   "execution_count": null,
   "metadata": {},
   "outputs": [
    {
     "name": "stdout",
     "output_type": "stream",
     "text": [
      "Phase: val | Loss: 0.0\n"
     ]
    }
   ],
   "source": [
    "model = SimpleModel()\n",
    "optimizer = torch.optim.SGD(model.parameters())\n",
    "criterion = nn.BCEWithLogitsLoss()\n",
    "\n",
    "for epoch in range(1, NUM_EPOCHS+1):\n",
    "    for phase in ['train', 'val']:\n",
    "        running_loss = 0 # TBD\n",
    "        \n",
    "        for data in dataloader_dict[phase]:\n",
    "            image_batch = data[0]\n",
    "            label_batch = data[1].type(torch.float32)\n",
    "\n",
    "            label_pred = model(image_batch)\n",
    "            \n",
    "            loss = criterion(label_pred.flatten(), label_batch)\n",
    "\n",
    "            if phase == 'train':\n",
    "                loss.backward()\n",
    "                optimizer.step()\n",
    "                optimizer.zero_grad()\n",
    "\n",
    "print(f\"Phase: {phase} | Loss: {loss}\")\n",
    "            "
   ]
  }
 ],
 "metadata": {
  "kernelspec": {
   "display_name": "harmonics_transformer",
   "language": "python",
   "name": "python3"
  },
  "language_info": {
   "codemirror_mode": {
    "name": "ipython",
    "version": 3
   },
   "file_extension": ".py",
   "mimetype": "text/x-python",
   "name": "python",
   "nbconvert_exporter": "python",
   "pygments_lexer": "ipython3",
   "version": "3.8.20"
  }
 },
 "nbformat": 4,
 "nbformat_minor": 2
}
