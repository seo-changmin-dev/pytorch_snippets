{
 "cells": [
  {
   "cell_type": "code",
   "execution_count": 1,
   "metadata": {},
   "outputs": [],
   "source": [
    "import os\n",
    "import sys\n",
    "from glob import glob\n",
    "from typing import List\n",
    "\n",
    "import numpy as np\n",
    "\n",
    "import torch\n",
    "import torch.nn as nn\n",
    "from torchvision import transforms\n",
    "\n",
    "from PIL import Image"
   ]
  },
  {
   "cell_type": "code",
   "execution_count": 2,
   "metadata": {},
   "outputs": [],
   "source": [
    "from Dataset import BuildHymenopteraDataLoader\n",
    "\n",
    "VGG16_SIZE = (256, 256)\n",
    "VGG16_MEAN = (0.485, 0.456, 0.406)\n",
    "VGG16_STD = (0.229, 0.224, 0.225)\n",
    "\n",
    "BATCH_SIZE = 1\n",
    "data_dir = './data_dir'\n",
    "\n",
    "transform_train = transforms.Compose([\n",
    "    transforms.Resize(size=VGG16_SIZE),\n",
    "    transforms.ToTensor(),\n",
    "    transforms.Normalize(mean=VGG16_MEAN, std=VGG16_STD)\n",
    "])\n",
    "\n",
    "transform_val = transform_train\n",
    "\n",
    "transform_dict = {\n",
    "    'train': transform_train,\n",
    "    'val': transform_val,\n",
    "}\n",
    "\n",
    "dataloader_builder = BuildHymenopteraDataLoader(data_dir=data_dir, transform_dict=transform_dict, batch_size=BATCH_SIZE)\n",
    "my_dataloader = dataloader_builder.get_dataloader()"
   ]
  },
  {
   "cell_type": "code",
   "execution_count": 9,
   "metadata": {},
   "outputs": [
    {
     "data": {
      "text/plain": [
       "[tensor([[[[ 1.4612,  1.4440,  1.4098,  ...,  1.4783,  1.4954,  1.5125],\n",
       "           [ 1.4612,  1.4440,  1.4098,  ...,  1.4954,  1.4954,  1.4954],\n",
       "           [ 1.4612,  1.4440,  1.4269,  ...,  1.4954,  1.4954,  1.4954],\n",
       "           ...,\n",
       "           [ 0.3481,  0.2624,  0.4851,  ...,  0.2624,  0.0056, -0.2342],\n",
       "           [ 0.3994,  0.2796,  0.3994,  ...,  0.1939,  0.0912, -0.0116],\n",
       "           [ 0.5193,  0.1426,  0.1083,  ...,  0.0398,  0.0398,  0.0056]],\n",
       " \n",
       "          [[ 1.2556,  1.2381,  1.2381,  ...,  1.2556,  1.2731,  1.2906],\n",
       "           [ 1.2556,  1.2381,  1.2381,  ...,  1.2731,  1.2731,  1.2731],\n",
       "           [ 1.2556,  1.2381,  1.2206,  ...,  1.2731,  1.2731,  1.2731],\n",
       "           ...,\n",
       "           [ 0.0301, -0.1625,  0.1176,  ..., -0.1975, -0.4601, -0.6702],\n",
       "           [-0.0574, -0.1450,  0.0126,  ..., -0.2850, -0.2500, -0.2150],\n",
       "           [-0.1099, -0.3200, -0.3025,  ..., -0.4426, -0.1450, -0.0049]],\n",
       " \n",
       "          [[ 1.1062,  1.0888,  1.0714,  ...,  1.0888,  1.0714,  1.0888],\n",
       "           [ 1.1062,  1.0888,  1.0714,  ...,  1.0888,  1.0714,  1.0714],\n",
       "           [ 1.1062,  1.0888,  1.0714,  ...,  1.0888,  1.0714,  1.0714],\n",
       "           ...,\n",
       "           [-0.0092, -0.3927, -0.1835,  ..., -0.3404, -0.5495, -0.6193],\n",
       "           [-0.3055, -0.4798, -0.3578,  ..., -0.3404, -0.1835, -0.0441],\n",
       "           [-0.4798, -0.7238, -0.6715,  ..., -0.5321, -0.1835, -0.0092]]]]),\n",
       " tensor([0])]"
      ]
     },
     "execution_count": 9,
     "metadata": {},
     "output_type": "execute_result"
    }
   ],
   "source": [
    "next(iter(my_dataloader['test']))"
   ]
  },
  {
   "cell_type": "code",
   "execution_count": null,
   "metadata": {},
   "outputs": [],
   "source": [
    "print(my_dataloader['train'].__len__(), my_dataloader['val'].__len__(), my_dataloader['test'].__len__())"
   ]
  }
 ],
 "metadata": {
  "kernelspec": {
   "display_name": "harmonics_transformer",
   "language": "python",
   "name": "python3"
  },
  "language_info": {
   "codemirror_mode": {
    "name": "ipython",
    "version": 3
   },
   "file_extension": ".py",
   "mimetype": "text/x-python",
   "name": "python",
   "nbconvert_exporter": "python",
   "pygments_lexer": "ipython3",
   "version": "3.8.20"
  }
 },
 "nbformat": 4,
 "nbformat_minor": 2
}
