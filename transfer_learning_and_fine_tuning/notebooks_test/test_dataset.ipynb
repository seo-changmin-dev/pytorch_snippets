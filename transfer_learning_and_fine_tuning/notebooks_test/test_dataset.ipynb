{
 "cells": [
  {
   "cell_type": "code",
   "execution_count": 2,
   "metadata": {},
   "outputs": [],
   "source": [
    "import os\n",
    "from glob import glob\n",
    "from typing import List\n",
    "\n",
    "import numpy as np\n",
    "\n",
    "import torch\n",
    "import torch.nn as nn\n",
    "from torchvision import transforms\n",
    "\n",
    "import numpy"
   ]
  },
  {
   "cell_type": "code",
   "execution_count": null,
   "metadata": {},
   "outputs": [],
   "source": [
    "def get_data_path_list(data_dir:str):\n",
    "    data_dir = './data/hymenoptera_data'\n",
    "    train_dir = os.path.join(data_dir, 'train')\n",
    "    val_dir = os.path.join(data_dir, 'val')\n",
    "\n",
    "    glob_regex = f\"{train_dir}/**/*\"\n",
    "    train_file_list = glob(glob_regex, recursive=True)\n",
    "\n",
    "    glob_regex = f\"{val_dir}/**/*\"\n",
    "    val_file_list = glob(glob_regex, recursive=True)\n",
    "\n",
    "    file_list_dict = {\n",
    "        'train': train_file_list,\n",
    "        'val': val_file_list\n",
    "    }\n",
    "\n",
    "    return file_list_dict"
   ]
  },
  {
   "cell_type": "code",
   "execution_count": null,
   "metadata": {},
   "outputs": [
    {
     "data": {
      "text/plain": [
       "247"
      ]
     },
     "execution_count": 34,
     "metadata": {},
     "output_type": "execute_result"
    }
   ],
   "source": [
    "data_dir = './data'\n",
    "\n",
    "file_list_dict = get_data_path_list(data_dir)\n",
    "\n",
    "file_list_dict['train'].__len__()"
   ]
  }
 ],
 "metadata": {
  "kernelspec": {
   "display_name": "harmonics_transformer",
   "language": "python",
   "name": "python3"
  },
  "language_info": {
   "codemirror_mode": {
    "name": "ipython",
    "version": 3
   },
   "file_extension": ".py",
   "mimetype": "text/x-python",
   "name": "python",
   "nbconvert_exporter": "python",
   "pygments_lexer": "ipython3",
   "version": "3.8.20"
  }
 },
 "nbformat": 4,
 "nbformat_minor": 2
}
