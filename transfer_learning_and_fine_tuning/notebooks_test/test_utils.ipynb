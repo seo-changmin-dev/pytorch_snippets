{
 "cells": [
  {
   "cell_type": "markdown",
   "metadata": {},
   "source": [
    "Download class label .json and hymenoptera images"
   ]
  },
  {
   "cell_type": "code",
   "execution_count": 16,
   "metadata": {},
   "outputs": [],
   "source": [
    "import os\n",
    "import urllib.request\n",
    "from zipfile import ZipFile"
   ]
  },
  {
   "cell_type": "code",
   "execution_count": 11,
   "metadata": {},
   "outputs": [],
   "source": [
    "class_json_url = \"https://s3.amazonaws.com/deep-learning-models/image-models/imagenet_class_index.json\"\n",
    "hymenoptera_zip_url = \"https://download.pytorch.org/tutorial/hymenoptera_data.zip\""
   ]
  },
  {
   "cell_type": "code",
   "execution_count": 17,
   "metadata": {},
   "outputs": [],
   "source": [
    "data_dir = \"./data\"\n",
    "os.makedirs(data_dir, exist_ok=True)\n",
    "\n",
    "# imagenet_class_index.json\n",
    "save_path = os.path.join(data_dir, \"imagenet_class_index.json\")\n",
    "if not os.path.exists(save_path):\n",
    "    urllib.request.urlretrieve(class_json_url, save_path)\n",
    "\n",
    "# hymenoptera_data.zip\n",
    "save_path = os.path.join(data_dir, \"hymenoptera_data.zip\")\n",
    "if not os.path.exists(save_path):\n",
    "    urllib.request.urlretrieve(hymenoptera_zip_url, save_path)\n",
    "\n",
    "    zip = ZipFile(save_path)\n",
    "    zip.extractall(data_dir)\n",
    "\n",
    "    os.remove(save_path)"
   ]
  }
 ],
 "metadata": {
  "kernelspec": {
   "display_name": "harmonics_transformer",
   "language": "python",
   "name": "python3"
  },
  "language_info": {
   "codemirror_mode": {
    "name": "ipython",
    "version": 3
   },
   "file_extension": ".py",
   "mimetype": "text/x-python",
   "name": "python",
   "nbconvert_exporter": "python",
   "pygments_lexer": "ipython3",
   "version": "3.8.20"
  }
 },
 "nbformat": 4,
 "nbformat_minor": 2
}
